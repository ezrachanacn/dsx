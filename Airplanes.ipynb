{
    "nbformat": 4, 
    "metadata": {
        "language_info": {
            "pygments_lexer": "ipython3", 
            "codemirror_mode": {
                "name": "ipython", 
                "version": 3
            }, 
            "file_extension": ".py", 
            "version": "3.5.2", 
            "mimetype": "text/x-python", 
            "name": "python", 
            "nbconvert_exporter": "python"
        }, 
        "widgets": {
            "state": {}, 
            "version": "1.1.1"
        }, 
        "kernelspec": {
            "name": "python3", 
            "language": "python", 
            "display_name": "Python 3.5 (Experimental) with Spark 1.6"
        }
    }, 
    "cells": [
        {
            "outputs": [], 
            "source": "%matplotlib inline\nfrom matplotlib.pylab import plt\n\nimport pandas as pd\nimport numpy as np\nimport statsmodels", 
            "execution_count": null, 
            "cell_type": "code", 
            "metadata": {
                "collapsed": true
            }
        }, 
        {
            "outputs": [], 
            "source": "import statsmodels\nprint(statsmodels.__version__)\nprint(np.__version__)\nprint(pd.__version__)", 
            "execution_count": null, 
            "cell_type": "code", 
            "metadata": {
                "collapsed": false
            }
        }, 
        {
            "source": "# Let's start with some informal exploration", 
            "metadata": {}, 
            "cell_type": "markdown"
        }, 
        {
            "outputs": [], 
            "source": "air_passengers = pd.read_csv(\"./data/AirPassengers.csv\", header = 0, parse_dates = [0], names = ['Month', 'Passengers'], index_col = 0)", 
            "execution_count": null, 
            "cell_type": "code", 
            "metadata": {
                "collapsed": false
            }
        }, 
        {
            "outputs": [], 
            "source": "air_passengers.head()", 
            "execution_count": null, 
            "cell_type": "code", 
            "metadata": {
                "collapsed": false
            }
        }, 
        {
            "source": "### Is this the behavior I want?", 
            "metadata": {}, 
            "cell_type": "markdown"
        }, 
        {
            "outputs": [], 
            "source": "air_passengers['1949-01-05':'1949-02-17']", 
            "execution_count": null, 
            "cell_type": "code", 
            "metadata": {
                "collapsed": false
            }
        }, 
        {
            "outputs": [], 
            "source": "# How do we get the desired behavior?", 
            "execution_count": null, 
            "cell_type": "code", 
            "metadata": {
                "collapsed": false
            }
        }, 
        {
            "outputs": [], 
            "source": "air_passengers['1949-01-05':'1949-02-17']", 
            "execution_count": null, 
            "cell_type": "code", 
            "metadata": {
                "collapsed": false
            }
        }, 
        {
            "source": "### Think about what your data means. Pandas can't do the thinking for you", 
            "metadata": {}, 
            "cell_type": "markdown"
        }, 
        {
            "outputs": [], 
            "source": "air_passengers.plot()", 
            "execution_count": null, 
            "cell_type": "code", 
            "metadata": {
                "collapsed": false
            }
        }, 
        {
            "outputs": [], 
            "source": "air_passengers['1950'].plot(kind = 'bar')", 
            "execution_count": null, 
            "cell_type": "code", 
            "metadata": {
                "collapsed": false
            }
        }, 
        {
            "outputs": [], 
            "source": "air_passengers['1951'].plot(kind = 'bar')", 
            "execution_count": null, 
            "cell_type": "code", 
            "metadata": {
                "collapsed": false
            }
        }, 
        {
            "source": "# Getting a little more formal\n### first thing we look at for a time series when we want to use common analysis techniques:\n### is it stationary: mean, variance, autocovariance do not depend on time", 
            "metadata": {
                "collapsed": true
            }, 
            "cell_type": "markdown"
        }, 
        {
            "outputs": [], 
            "source": "# first test, informally, plot the moving average\n# note the ROLLING function\nair_passengers.rolling(window = 60).mean().plot()", 
            "execution_count": null, 
            "cell_type": "code", 
            "metadata": {
                "collapsed": false
            }
        }, 
        {
            "outputs": [], 
            "source": "# How can we see whether the variance changes over time?", 
            "execution_count": null, 
            "cell_type": "code", 
            "metadata": {
                "collapsed": false
            }
        }, 
        {
            "outputs": [], 
            "source": "# Can you plot the autocorrelation?\nfrom statsmodels.tsa.stattools import acf", 
            "execution_count": null, 
            "cell_type": "code", 
            "metadata": {
                "collapsed": true
            }
        }, 
        {
            "outputs": [], 
            "source": "# What is the autocorrelation and how can we visualize it? ", 
            "execution_count": null, 
            "cell_type": "code", 
            "metadata": {
                "collapsed": false
            }
        }, 
        {
            "source": "### How can I see whether the autocorrelation is changing over time?", 
            "metadata": {}, 
            "cell_type": "markdown"
        }, 
        {
            "outputs": [], 
            "source": "# What would we do differently from above?\n", 
            "execution_count": null, 
            "cell_type": "code", 
            "metadata": {
                "collapsed": false
            }
        }, 
        {
            "source": "### Always have to make judgment calls", 
            "metadata": {}, 
            "cell_type": "markdown"
        }, 
        {
            "outputs": [], 
            "source": "# How should you size your window?\nair_passengers.rolling(window = 120).var().plot()", 
            "execution_count": null, 
            "cell_type": "code", 
            "metadata": {
                "collapsed": false
            }
        }, 
        {
            "source": "# And now let's make it formal", 
            "metadata": {}, 
            "cell_type": "markdown"
        }, 
        {
            "outputs": [], 
            "source": "# next more formally apply the Augmented Dickey-Fuller test\nfrom statsmodels.tsa.stattools import adfuller\nadfuller(air_passengers.Passengers, autolag = 'AIC', regression = 'ct')", 
            "execution_count": null, 
            "cell_type": "code", 
            "metadata": {
                "collapsed": false
            }
        }, 
        {
            "source": "### What do these numbers mean? Let's take a look at statsmodels documentation", 
            "metadata": {
                "collapsed": false
            }, 
            "cell_type": "markdown"
        }, 
        {
            "outputs": [], 
            "source": "# Can we write a function to output these #s sensibly?\n# Check out statsmodels.sourceforge.net/devel/generated/statsmodels.tsa.stattools.adfuller.html", 
            "execution_count": null, 
            "cell_type": "code", 
            "metadata": {
                "collapsed": true
            }
        }, 
        {
            "source": "# Where do we go from here?", 
            "metadata": {}, 
            "cell_type": "markdown"
        }, 
        {
            "outputs": [], 
            "source": "# Are we stuck not doing any analysis now that our time series is not stationary? Hint: no.\n# How can we make it stationary?\n# Why is it non-stationary (2 reasons)", 
            "execution_count": null, 
            "cell_type": "code", 
            "metadata": {
                "collapsed": true
            }
        }, 
        {
            "outputs": [], 
            "source": "# One method to get rid of time varying variance is to do a power or log transformation that punishes larger values\n# more than smaller values\nlog_passengers = air_passengers.Passengers.apply(lambda x: np.log(x))\nlog_passengers.plot()", 
            "execution_count": null, 
            "cell_type": "code", 
            "metadata": {
                "collapsed": false
            }
        }, 
        {
            "outputs": [], 
            "source": "# Let's see what that looks like as a power transformation\nrt_passengers = air_passengers.Passengers.apply(lambda x: x**.5)\nrt_passengers.plot()", 
            "execution_count": null, 
            "cell_type": "code", 
            "metadata": {
                "collapsed": false
            }
        }, 
        {
            "outputs": [], 
            "source": "# This reduces the variance in variance as opposed to the original trend\nair_passengers.plot()", 
            "execution_count": null, 
            "cell_type": "code", 
            "metadata": {
                "collapsed": false
            }
        }, 
        {
            "outputs": [], 
            "source": "# However there is still a trend we need to remove\n# Let's calculate a rolling mean\n# Experiment with window size\nair_passengers.rolling(window = 12).mean().plot()", 
            "execution_count": null, 
            "cell_type": "code", 
            "metadata": {
                "collapsed": false
            }
        }, 
        {
            "outputs": [], 
            "source": "# What if we subtract this rolling mean from the original series?\nrolling_mean = air_passengers.rolling(window = 12).mean()\npassengers_detrended = air_passengers - rolling_mean\npassengers_detrended.plot()", 
            "execution_count": null, 
            "cell_type": "code", 
            "metadata": {
                "collapsed": false
            }
        }, 
        {
            "outputs": [], 
            "source": "# Exercise: try detrending after taking the log. How does that look?\nlog_rolling_mean = log_passengers.rolling(window = 12).mean()\nlog_detrended = log_passengers - log_rolling_mean\nlog_detrended.plot()", 
            "execution_count": null, 
            "cell_type": "code", 
            "metadata": {
                "collapsed": false
            }
        }, 
        {
            "outputs": [], 
            "source": "log_detrended.rolling(20).median().plot()", 
            "execution_count": null, 
            "cell_type": "code", 
            "metadata": {
                "collapsed": false
            }
        }, 
        {
            "outputs": [], 
            "source": "# Exercise: try detrending before taking the log. How does that look?\nrolling_mean = air_passengers.rolling(window = 12).mean()\npassengers_detrended = air_passengers - rolling_mean\nlog_detrended2 = passengers_detrended.Passengers.apply(lambda x: np.log(x))\nlog_detrended2.plot()", 
            "execution_count": null, 
            "cell_type": "code", 
            "metadata": {
                "collapsed": false
            }
        }, 
        {
            "source": "### Why didn't that work?", 
            "metadata": {}, 
            "cell_type": "markdown"
        }, 
        {
            "outputs": [], 
            "source": "# Now let's use a regression rather than a rolling mean to detrend\nfrom statsmodels.regression.linear_model import OLS\nmodel = OLS(air_passengers.Passengers.values, list(range(len(air_passengers.values))))\nresult = model.fit()\nresult.params\nfit = pd.Series(result.predict(list(range(len(air_passengers.values)))), index = air_passengers.index)\n\npassengers_detrended = air_passengers.Passengers - fit\npassengers_detrended.plot()", 
            "execution_count": null, 
            "cell_type": "code", 
            "metadata": {
                "collapsed": false
            }
        }, 
        {
            "outputs": [], 
            "source": "passengers_detrended.rolling(20).median().plot()", 
            "execution_count": null, 
            "cell_type": "code", 
            "metadata": {
                "collapsed": false
            }
        }, 
        {
            "source": "### What worked better, the rolling average or the regression? Why?", 
            "metadata": {}, 
            "cell_type": "markdown"
        }, 
        {
            "source": "# Seasonality", 
            "metadata": {
                "collapsed": false
            }, 
            "cell_type": "markdown"
        }, 
        {
            "source": "### Differencing", 
            "metadata": {}, 
            "cell_type": "markdown"
        }, 
        {
            "outputs": [], 
            "source": "(air_passengers.Passengers - air_passengers.Passengers.shift()).plot()", 
            "execution_count": null, 
            "cell_type": "code", 
            "metadata": {
                "collapsed": false
            }
        }, 
        {
            "outputs": [], 
            "source": "# One common technique is differencing, let's start with log_passengers\nlog_passengers_diff = log_passengers - log_passengers.shift()\nlog_passengers_diff.plot()", 
            "execution_count": null, 
            "cell_type": "code", 
            "metadata": {
                "collapsed": false
            }
        }, 
        {
            "outputs": [], 
            "source": "# Let's again test for stationarity with a gut level check.\n# And let's write a function to do it since this seems like something we'll have to do a lot", 
            "execution_count": null, 
            "cell_type": "code", 
            "metadata": {
                "collapsed": false
            }
        }, 
        {
            "outputs": [], 
            "source": "log_passengers = log_passengers.to_timestamp()", 
            "execution_count": null, 
            "cell_type": "code", 
            "metadata": {
                "collapsed": false
            }
        }, 
        {
            "outputs": [], 
            "source": "from statsmodels.tsa.seasonal import seasonal_decompose\n\nlog_passengers.interpolate(inplace = True)\ndecomposition = seasonal_decompose(log_passengers, model = 'multiplicative')\ndecomposition.plot()", 
            "execution_count": null, 
            "cell_type": "code", 
            "metadata": {
                "collapsed": false
            }
        }, 
        {
            "source": "### Seasonal or multiplicative time series?", 
            "metadata": {}, 
            "cell_type": "markdown"
        }, 
        {
            "outputs": [], 
            "source": "# When to use which?", 
            "execution_count": null, 
            "cell_type": "code", 
            "metadata": {
                "collapsed": false
            }
        }, 
        {
            "outputs": [], 
            "source": "decomposition = seasonal_decompose(log_passengers, model = 'multiplicative')\ntrend = decomposition.trend\nseasonal = decomposition.seasonal\nresidual = decomposition.resid", 
            "execution_count": null, 
            "cell_type": "code", 
            "metadata": {
                "collapsed": false
            }
        }, 
        {
            "outputs": [], 
            "source": "plt.plot(log_passengers, label='Original')\nplt.plot(trend, label='Trend')\nplt.plot(seasonal,label='Seasonality')\nplt.plot(residual, label='Residuals')\nplt.legend(loc = 'best')", 
            "execution_count": null, 
            "cell_type": "code", 
            "metadata": {
                "collapsed": false
            }
        }, 
        {
            "source": "# Let's walk through seasonal_decompose", 
            "metadata": {}, 
            "cell_type": "markdown"
        }, 
        {
            "outputs": [], 
            "source": "\nfrom statsmodels.compat.python import lmap, range, iteritems\nimport numpy as np\nfrom pandas.core.nanops import nanmean as pd_nanmean\nfrom statsmodels.tsa.filters._utils import _maybe_get_pandas_wrapper_freq\nfrom statsmodels.tsa.filters.filtertools import convolution_filter\nfrom statsmodels.tsa.tsatools import freq_to_period\n\ndef seasonal_decompose(x, model=\"additive\", filt=None, freq=None, two_sided=True):\n    \"\"\"\n    Seasonal decomposition using moving averages\n    Parameters\n    ----------\n    x : array-like\n        Time series\n    model : str {\"additive\", \"multiplicative\"}\n        Type of seasonal component. Abbreviations are accepted.\n    filt : array-like\n        The filter coefficients for filtering out the seasonal component.\n        The concrete moving average method used in filtering is determined by two_sided.\n    freq : int, optional\n        Frequency of the series. Must be used if x is not  a pandas object.\n        Overrides default periodicity of x if x is a pandas\n        object with a timeseries index.\n    two_sided : bool\n        The moving average method used in filtering.\n        If True (default), a centered moving average is computed using the filt.\n        If False, the filter coefficients are for past values only.\n    Returns\n    -------\n    results : obj\n        A object with seasonal, trend, and resid attributes.\n    Notes\n    -----\n    This is a naive decomposition. More sophisticated methods should\n    be preferred.\n    The additive model is Y[t] = T[t] + S[t] + e[t]\n    The multiplicative model is Y[t] = T[t] * S[t] * e[t]\n    The seasonal component is first removed by applying a convolution\n    filter to the data. The average of this smoothed series for each\n    period is the returned seasonal component.\n    See Also\n    --------\n    statsmodels.tsa.filters.bk_filter.bkfilter\n    statsmodels.tsa.filters.cf_filter.xffilter\n    statsmodels.tsa.filters.hp_filter.hpfilter\n    statsmodels.tsa.filters.convolution_filter\n    \"\"\"\n    _pandas_wrapper, pfreq = _maybe_get_pandas_wrapper_freq(x)\n    x = np.asanyarray(x).squeeze()\n    nobs = len(x)\n\n    if not np.all(np.isfinite(x)):\n        raise ValueError(\"This function does not handle missing values\")\n    if model.startswith('m'):\n        if np.any(x <= 0):\n            raise ValueError(\"Multiplicative seasonality is not appropriate \"\n                             \"for zero and negative values\")\n\n    if freq is None:\n        if pfreq is not None:\n            pfreq = freq_to_period(pfreq)\n            freq = pfreq\n        else:\n            raise ValueError(\"You must specify a freq or x must be a \"\n                             \"pandas object with a timeseries index with\"\n                             \"a freq not set to None\")\n\n    if filt is None:\n        if freq % 2 == 0:  # split weights at ends\n            filt = np.array([.5] + [1] * (freq - 1) + [.5]) / freq\n        else:\n            filt = np.repeat(1./freq, freq)\n\n    nsides = int(two_sided) + 1\n    trend = convolution_filter(x, filt, nsides)\n\n    # nan pad for conformability - convolve doesn't do it\n    if model.startswith('m'):\n        detrended = x / trend\n    else:\n        detrended = x - trend\n\n    period_averages = seasonal_mean(detrended, freq)\n\n    if model.startswith('m'):\n        period_averages /= np.mean(period_averages)\n    else:\n        period_averages -= np.mean(period_averages)\n\n    seasonal = np.tile(period_averages, nobs // freq + 1)[:nobs]\n\n    if model.startswith('m'):\n        resid = x / seasonal / trend\n    else:\n        resid = detrended - seasonal\n\n    results = lmap(_pandas_wrapper, [seasonal, trend, resid, x])\n    return DecomposeResult(seasonal=results[0], trend=results[1],\n                           resid=results[2], observed=results[3])", 
            "execution_count": null, 
            "cell_type": "code", 
            "metadata": {
                "collapsed": false
            }
        }, 
        {
            "outputs": [], 
            "source": "x = log_passengers\n_pandas_wrapper, pfreq = _maybe_get_pandas_wrapper_freq(x)\nmodel = \"multiplicative\"", 
            "execution_count": null, 
            "cell_type": "code", 
            "metadata": {
                "collapsed": true
            }
        }, 
        {
            "outputs": [], 
            "source": "x = np.asanyarray(x).squeeze()", 
            "execution_count": null, 
            "cell_type": "code", 
            "metadata": {
                "collapsed": false
            }
        }, 
        {
            "outputs": [], 
            "source": "nobs = len(x)", 
            "execution_count": null, 
            "cell_type": "code", 
            "metadata": {
                "collapsed": true
            }
        }, 
        {
            "outputs": [], 
            "source": "nobs", 
            "execution_count": null, 
            "cell_type": "code", 
            "metadata": {
                "collapsed": false
            }
        }, 
        {
            "outputs": [], 
            "source": "if not np.all(np.isfinite(x)):\n    raise ValueError(\"This function does not handle missing values\")\nif model.startswith('m'):\n    if np.any(x <= 0):\n        raise ValueError(\"Multiplicative seasonality is not appropriate \"\n                             \"for zero and negative values\")", 
            "execution_count": null, 
            "cell_type": "code", 
            "metadata": {
                "collapsed": true
            }
        }, 
        {
            "outputs": [], 
            "source": "freq = None\nif freq is None:\n    if pfreq is not None:\n        pfreq = freq_to_period(pfreq)\n        freq = pfreq\n    else:\n        raise ValueError(\"You must specify a freq or x must be a \"\n                         \"pandas object with a timeseries index with\"\n                         \"a freq not set to None\")", 
            "execution_count": null, 
            "cell_type": "code", 
            "metadata": {
                "collapsed": false
            }
        }, 
        {
            "outputs": [], 
            "source": "pfreq", 
            "execution_count": null, 
            "cell_type": "code", 
            "metadata": {
                "collapsed": false
            }
        }, 
        {
            "outputs": [], 
            "source": "freq", 
            "execution_count": null, 
            "cell_type": "code", 
            "metadata": {
                "collapsed": false
            }
        }, 
        {
            "outputs": [], 
            "source": "filt = None\ntwo_sided = True\nif filt is None:\n    if freq % 2 == 0:  # split weights at ends\n        filt = np.array([.5] + [1] * (freq - 1) + [.5]) / freq\n    else:\n        filt = np.repeat(1./freq, freq)\n\nnsides = int(two_sided) + 1\ntrend = convolution_filter(x, filt, nsides)\n", 
            "execution_count": null, 
            "cell_type": "code", 
            "metadata": {
                "collapsed": false
            }
        }, 
        {
            "outputs": [], 
            "source": "plt.plot(trend)", 
            "execution_count": null, 
            "cell_type": "code", 
            "metadata": {
                "collapsed": false
            }
        }, 
        {
            "outputs": [], 
            "source": "plt.plot(filt)", 
            "execution_count": null, 
            "cell_type": "code", 
            "metadata": {
                "collapsed": false
            }
        }, 
        {
            "outputs": [], 
            "source": "if model.startswith('m'):\n    detrended = x / trend\nelse:\n    detrended = x - trend", 
            "execution_count": null, 
            "cell_type": "code", 
            "metadata": {
                "collapsed": true
            }
        }, 
        {
            "outputs": [], 
            "source": "plt.plot(detrended)", 
            "execution_count": null, 
            "cell_type": "code", 
            "metadata": {
                "collapsed": false
            }
        }, 
        {
            "outputs": [], 
            "source": "def seasonal_mean(x, freq):\n    \"\"\"\n    Return means for each period in x. freq is an int that gives the\n    number of periods per cycle. E.g., 12 for monthly. NaNs are ignored\n    in the mean.\n    \"\"\"\n    return np.array([pd_nanmean(x[i::freq]) for i in range(freq)])", 
            "execution_count": null, 
            "cell_type": "code", 
            "metadata": {
                "collapsed": true
            }
        }, 
        {
            "outputs": [], 
            "source": "period_averages = seasonal_mean(detrended, freq)\n\nif model.startswith('m'):\n    period_averages /= np.mean(period_averages)\nelse:\n    period_averages -= np.mean(period_averages)\n\nseasonal = np.tile(period_averages, nobs // freq + 1)[:nobs]\n\nif model.startswith('m'):\n    resid = x / seasonal / trend\nelse:\n    resid = detrended - seasonal\n\n", 
            "execution_count": null, 
            "cell_type": "code", 
            "metadata": {
                "collapsed": false
            }
        }, 
        {
            "outputs": [], 
            "source": "plt.plot(trend)", 
            "execution_count": null, 
            "cell_type": "code", 
            "metadata": {
                "collapsed": false
            }
        }, 
        {
            "outputs": [], 
            "source": "", 
            "execution_count": null, 
            "cell_type": "code", 
            "metadata": {
                "collapsed": true
            }
        }
    ], 
    "nbformat_minor": 0
}